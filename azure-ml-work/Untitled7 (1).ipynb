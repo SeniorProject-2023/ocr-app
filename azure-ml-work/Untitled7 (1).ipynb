{
  "cells": [
    {
      "cell_type": "code",
      "execution_count": 79,
      "metadata": {
        "colab": {
          "base_uri": "https://localhost:8080/"
        },
        "id": "qfJ9h7hRw7dz",
        "outputId": "786eca08-dd57-45d6-cb01-db0ca86093fe"
      },
      "outputs": [
        {
          "name": "stdout",
          "output_type": "stream",
          "text": [
            "Requirement already satisfied: ultralytics in c:\\users\\pc\\appdata\\local\\packages\\pythonsoftwarefoundation.python.3.10_qbz5n2kfra8p0\\localcache\\local-packages\\python310\\site-packages (8.0.98)\n",
            "Requirement already satisfied: matplotlib>=3.2.2 in c:\\users\\pc\\appdata\\local\\packages\\pythonsoftwarefoundation.python.3.10_qbz5n2kfra8p0\\localcache\\local-packages\\python310\\site-packages (from ultralytics) (3.6.2)\n",
            "Requirement already satisfied: opencv-python>=4.6.0 in c:\\users\\pc\\appdata\\local\\packages\\pythonsoftwarefoundation.python.3.10_qbz5n2kfra8p0\\localcache\\local-packages\\python310\\site-packages (from ultralytics) (4.7.0.72)\n",
            "Requirement already satisfied: Pillow>=7.1.2 in c:\\users\\pc\\appdata\\local\\packages\\pythonsoftwarefoundation.python.3.10_qbz5n2kfra8p0\\localcache\\local-packages\\python310\\site-packages (from ultralytics) (9.3.0)\n",
            "Requirement already satisfied: PyYAML>=5.3.1 in c:\\users\\pc\\appdata\\local\\packages\\pythonsoftwarefoundation.python.3.10_qbz5n2kfra8p0\\localcache\\local-packages\\python310\\site-packages (from ultralytics) (6.0)\n",
            "Requirement already satisfied: requests>=2.23.0 in c:\\users\\pc\\appdata\\local\\packages\\pythonsoftwarefoundation.python.3.10_qbz5n2kfra8p0\\localcache\\local-packages\\python310\\site-packages (from ultralytics) (2.28.1)\n",
            "Requirement already satisfied: scipy>=1.4.1 in c:\\users\\pc\\appdata\\local\\packages\\pythonsoftwarefoundation.python.3.10_qbz5n2kfra8p0\\localcache\\local-packages\\python310\\site-packages (from ultralytics) (1.9.3)\n",
            "Requirement already satisfied: torch>=1.7.0 in c:\\users\\pc\\appdata\\local\\packages\\pythonsoftwarefoundation.python.3.10_qbz5n2kfra8p0\\localcache\\local-packages\\python310\\site-packages (from ultralytics) (2.0.1)\n",
            "Requirement already satisfied: torchvision>=0.8.1 in c:\\users\\pc\\appdata\\local\\packages\\pythonsoftwarefoundation.python.3.10_qbz5n2kfra8p0\\localcache\\local-packages\\python310\\site-packages (from ultralytics) (0.15.2)\n",
            "Requirement already satisfied: tqdm>=4.64.0 in c:\\users\\pc\\appdata\\local\\packages\\pythonsoftwarefoundation.python.3.10_qbz5n2kfra8p0\\localcache\\local-packages\\python310\\site-packages (from ultralytics) (4.64.1)\n",
            "Requirement already satisfied: pandas>=1.1.4 in c:\\users\\pc\\appdata\\local\\packages\\pythonsoftwarefoundation.python.3.10_qbz5n2kfra8p0\\localcache\\local-packages\\python310\\site-packages (from ultralytics) (2.0.1)\n",
            "Requirement already satisfied: seaborn>=0.11.0 in c:\\users\\pc\\appdata\\local\\packages\\pythonsoftwarefoundation.python.3.10_qbz5n2kfra8p0\\localcache\\local-packages\\python310\\site-packages (from ultralytics) (0.12.2)\n",
            "Requirement already satisfied: psutil in c:\\users\\pc\\appdata\\local\\packages\\pythonsoftwarefoundation.python.3.10_qbz5n2kfra8p0\\localcache\\local-packages\\python310\\site-packages (from ultralytics) (5.9.4)\n",
            "Requirement already satisfied: thop>=0.1.1 in c:\\users\\pc\\appdata\\local\\packages\\pythonsoftwarefoundation.python.3.10_qbz5n2kfra8p0\\localcache\\local-packages\\python310\\site-packages (from ultralytics) (0.1.1.post2209072238)\n",
            "Requirement already satisfied: sentry-sdk in c:\\users\\pc\\appdata\\local\\packages\\pythonsoftwarefoundation.python.3.10_qbz5n2kfra8p0\\localcache\\local-packages\\python310\\site-packages (from ultralytics) (1.22.2)\n",
            "Requirement already satisfied: contourpy>=1.0.1 in c:\\users\\pc\\appdata\\local\\packages\\pythonsoftwarefoundation.python.3.10_qbz5n2kfra8p0\\localcache\\local-packages\\python310\\site-packages (from matplotlib>=3.2.2->ultralytics) (1.0.5)\n",
            "Requirement already satisfied: cycler>=0.10 in c:\\users\\pc\\appdata\\local\\packages\\pythonsoftwarefoundation.python.3.10_qbz5n2kfra8p0\\localcache\\local-packages\\python310\\site-packages (from matplotlib>=3.2.2->ultralytics) (0.11.0)\n",
            "Requirement already satisfied: fonttools>=4.22.0 in c:\\users\\pc\\appdata\\local\\packages\\pythonsoftwarefoundation.python.3.10_qbz5n2kfra8p0\\localcache\\local-packages\\python310\\site-packages (from matplotlib>=3.2.2->ultralytics) (4.37.4)\n",
            "Requirement already satisfied: kiwisolver>=1.0.1 in c:\\users\\pc\\appdata\\local\\packages\\pythonsoftwarefoundation.python.3.10_qbz5n2kfra8p0\\localcache\\local-packages\\python310\\site-packages (from matplotlib>=3.2.2->ultralytics) (1.4.4)\n",
            "Requirement already satisfied: numpy>=1.19 in c:\\users\\pc\\appdata\\local\\packages\\pythonsoftwarefoundation.python.3.10_qbz5n2kfra8p0\\localcache\\local-packages\\python310\\site-packages (from matplotlib>=3.2.2->ultralytics) (1.23.4)\n",
            "Requirement already satisfied: packaging>=20.0 in c:\\users\\pc\\appdata\\local\\packages\\pythonsoftwarefoundation.python.3.10_qbz5n2kfra8p0\\localcache\\local-packages\\python310\\site-packages (from matplotlib>=3.2.2->ultralytics) (21.3)\n",
            "Requirement already satisfied: pyparsing>=2.2.1 in c:\\users\\pc\\appdata\\local\\packages\\pythonsoftwarefoundation.python.3.10_qbz5n2kfra8p0\\localcache\\local-packages\\python310\\site-packages (from matplotlib>=3.2.2->ultralytics) (3.0.9)\n",
            "Requirement already satisfied: python-dateutil>=2.7 in c:\\users\\pc\\appdata\\local\\packages\\pythonsoftwarefoundation.python.3.10_qbz5n2kfra8p0\\localcache\\local-packages\\python310\\site-packages (from matplotlib>=3.2.2->ultralytics) (2.8.2)\n",
            "Requirement already satisfied: pytz>=2020.1 in c:\\users\\pc\\appdata\\local\\packages\\pythonsoftwarefoundation.python.3.10_qbz5n2kfra8p0\\localcache\\local-packages\\python310\\site-packages (from pandas>=1.1.4->ultralytics) (2023.3)\n",
            "Requirement already satisfied: tzdata>=2022.1 in c:\\users\\pc\\appdata\\local\\packages\\pythonsoftwarefoundation.python.3.10_qbz5n2kfra8p0\\localcache\\local-packages\\python310\\site-packages (from pandas>=1.1.4->ultralytics) (2023.3)\n",
            "Requirement already satisfied: charset-normalizer<3,>=2 in c:\\users\\pc\\appdata\\local\\packages\\pythonsoftwarefoundation.python.3.10_qbz5n2kfra8p0\\localcache\\local-packages\\python310\\site-packages (from requests>=2.23.0->ultralytics) (2.1.1)\n",
            "Requirement already satisfied: idna<4,>=2.5 in c:\\users\\pc\\appdata\\local\\packages\\pythonsoftwarefoundation.python.3.10_qbz5n2kfra8p0\\localcache\\local-packages\\python310\\site-packages (from requests>=2.23.0->ultralytics) (3.4)\n",
            "Requirement already satisfied: urllib3<1.27,>=1.21.1 in c:\\users\\pc\\appdata\\local\\packages\\pythonsoftwarefoundation.python.3.10_qbz5n2kfra8p0\\localcache\\local-packages\\python310\\site-packages (from requests>=2.23.0->ultralytics) (1.26.12)\n",
            "Requirement already satisfied: certifi>=2017.4.17 in c:\\users\\pc\\appdata\\local\\packages\\pythonsoftwarefoundation.python.3.10_qbz5n2kfra8p0\\localcache\\local-packages\\python310\\site-packages (from requests>=2.23.0->ultralytics) (2022.9.24)\n",
            "Requirement already satisfied: filelock in c:\\users\\pc\\appdata\\local\\packages\\pythonsoftwarefoundation.python.3.10_qbz5n2kfra8p0\\localcache\\local-packages\\python310\\site-packages (from torch>=1.7.0->ultralytics) (3.12.0)\n",
            "Requirement already satisfied: typing-extensions in c:\\users\\pc\\appdata\\local\\packages\\pythonsoftwarefoundation.python.3.10_qbz5n2kfra8p0\\localcache\\local-packages\\python310\\site-packages (from torch>=1.7.0->ultralytics) (4.4.0)\n",
            "Requirement already satisfied: sympy in c:\\users\\pc\\appdata\\local\\packages\\pythonsoftwarefoundation.python.3.10_qbz5n2kfra8p0\\localcache\\local-packages\\python310\\site-packages (from torch>=1.7.0->ultralytics) (1.11.1)\n",
            "Requirement already satisfied: networkx in c:\\users\\pc\\appdata\\local\\packages\\pythonsoftwarefoundation.python.3.10_qbz5n2kfra8p0\\localcache\\local-packages\\python310\\site-packages (from torch>=1.7.0->ultralytics) (2.8.8)\n",
            "Requirement already satisfied: jinja2 in c:\\users\\pc\\appdata\\local\\packages\\pythonsoftwarefoundation.python.3.10_qbz5n2kfra8p0\\localcache\\local-packages\\python310\\site-packages (from torch>=1.7.0->ultralytics) (3.1.2)\n",
            "Requirement already satisfied: colorama in c:\\users\\pc\\appdata\\local\\packages\\pythonsoftwarefoundation.python.3.10_qbz5n2kfra8p0\\localcache\\local-packages\\python310\\site-packages (from tqdm>=4.64.0->ultralytics) (0.4.6)\n",
            "Requirement already satisfied: six>=1.5 in c:\\users\\pc\\appdata\\local\\packages\\pythonsoftwarefoundation.python.3.10_qbz5n2kfra8p0\\localcache\\local-packages\\python310\\site-packages (from python-dateutil>=2.7->matplotlib>=3.2.2->ultralytics) (1.16.0)\n",
            "Requirement already satisfied: MarkupSafe>=2.0 in c:\\users\\pc\\appdata\\local\\packages\\pythonsoftwarefoundation.python.3.10_qbz5n2kfra8p0\\localcache\\local-packages\\python310\\site-packages (from jinja2->torch>=1.7.0->ultralytics) (2.1.2)\n",
            "Requirement already satisfied: mpmath>=0.19 in c:\\users\\pc\\appdata\\local\\packages\\pythonsoftwarefoundation.python.3.10_qbz5n2kfra8p0\\localcache\\local-packages\\python310\\site-packages (from sympy->torch>=1.7.0->ultralytics) (1.2.1)\n",
            "Requirement already satisfied: jdeskew in c:\\users\\pc\\appdata\\local\\packages\\pythonsoftwarefoundation.python.3.10_qbz5n2kfra8p0\\localcache\\local-packages\\python310\\site-packages (0.2.1)\n",
            "Requirement already satisfied: numpy in c:\\users\\pc\\appdata\\local\\packages\\pythonsoftwarefoundation.python.3.10_qbz5n2kfra8p0\\localcache\\local-packages\\python310\\site-packages (from jdeskew) (1.23.4)\n",
            "Requirement already satisfied: opencv-python in c:\\users\\pc\\appdata\\local\\packages\\pythonsoftwarefoundation.python.3.10_qbz5n2kfra8p0\\localcache\\local-packages\\python310\\site-packages (from jdeskew) (4.7.0.72)\n",
            "Requirement already satisfied: deskew in c:\\users\\pc\\appdata\\local\\packages\\pythonsoftwarefoundation.python.3.10_qbz5n2kfra8p0\\localcache\\local-packages\\python310\\site-packages (1.3.3)\n",
            "Requirement already satisfied: numpy in c:\\users\\pc\\appdata\\local\\packages\\pythonsoftwarefoundation.python.3.10_qbz5n2kfra8p0\\localcache\\local-packages\\python310\\site-packages (from deskew) (1.23.4)\n",
            "Requirement already satisfied: scikit-image in c:\\users\\pc\\appdata\\local\\packages\\pythonsoftwarefoundation.python.3.10_qbz5n2kfra8p0\\localcache\\local-packages\\python310\\site-packages (from deskew) (0.19.3)\n",
            "Requirement already satisfied: scipy>=1.4.1 in c:\\users\\pc\\appdata\\local\\packages\\pythonsoftwarefoundation.python.3.10_qbz5n2kfra8p0\\localcache\\local-packages\\python310\\site-packages (from scikit-image->deskew) (1.9.3)\n",
            "Requirement already satisfied: networkx>=2.2 in c:\\users\\pc\\appdata\\local\\packages\\pythonsoftwarefoundation.python.3.10_qbz5n2kfra8p0\\localcache\\local-packages\\python310\\site-packages (from scikit-image->deskew) (2.8.8)\n",
            "Requirement already satisfied: pillow!=7.1.0,!=7.1.1,!=8.3.0,>=6.1.0 in c:\\users\\pc\\appdata\\local\\packages\\pythonsoftwarefoundation.python.3.10_qbz5n2kfra8p0\\localcache\\local-packages\\python310\\site-packages (from scikit-image->deskew) (9.3.0)\n",
            "Requirement already satisfied: imageio>=2.4.1 in c:\\users\\pc\\appdata\\local\\packages\\pythonsoftwarefoundation.python.3.10_qbz5n2kfra8p0\\localcache\\local-packages\\python310\\site-packages (from scikit-image->deskew) (2.22.4)\n",
            "Requirement already satisfied: tifffile>=2019.7.26 in c:\\users\\pc\\appdata\\local\\packages\\pythonsoftwarefoundation.python.3.10_qbz5n2kfra8p0\\localcache\\local-packages\\python310\\site-packages (from scikit-image->deskew) (2022.10.10)\n",
            "Requirement already satisfied: PyWavelets>=1.1.1 in c:\\users\\pc\\appdata\\local\\packages\\pythonsoftwarefoundation.python.3.10_qbz5n2kfra8p0\\localcache\\local-packages\\python310\\site-packages (from scikit-image->deskew) (1.4.1)\n",
            "Requirement already satisfied: packaging>=20.0 in c:\\users\\pc\\appdata\\local\\packages\\pythonsoftwarefoundation.python.3.10_qbz5n2kfra8p0\\localcache\\local-packages\\python310\\site-packages (from scikit-image->deskew) (21.3)\n",
            "Requirement already satisfied: pyparsing!=3.0.5,>=2.0.2 in c:\\users\\pc\\appdata\\local\\packages\\pythonsoftwarefoundation.python.3.10_qbz5n2kfra8p0\\localcache\\local-packages\\python310\\site-packages (from packaging>=20.0->scikit-image->deskew) (3.0.9)\n",
            "Requirement already satisfied: gdown in c:\\users\\pc\\appdata\\local\\packages\\pythonsoftwarefoundation.python.3.10_qbz5n2kfra8p0\\localcache\\local-packages\\python310\\site-packages (4.7.1)\n",
            "Requirement already satisfied: filelock in c:\\users\\pc\\appdata\\local\\packages\\pythonsoftwarefoundation.python.3.10_qbz5n2kfra8p0\\localcache\\local-packages\\python310\\site-packages (from gdown) (3.12.0)\n",
            "Requirement already satisfied: requests[socks] in c:\\users\\pc\\appdata\\local\\packages\\pythonsoftwarefoundation.python.3.10_qbz5n2kfra8p0\\localcache\\local-packages\\python310\\site-packages (from gdown) (2.28.1)\n",
            "Requirement already satisfied: six in c:\\users\\pc\\appdata\\local\\packages\\pythonsoftwarefoundation.python.3.10_qbz5n2kfra8p0\\localcache\\local-packages\\python310\\site-packages (from gdown) (1.16.0)\n",
            "Requirement already satisfied: tqdm in c:\\users\\pc\\appdata\\local\\packages\\pythonsoftwarefoundation.python.3.10_qbz5n2kfra8p0\\localcache\\local-packages\\python310\\site-packages (from gdown) (4.64.1)\n",
            "Requirement already satisfied: beautifulsoup4 in c:\\users\\pc\\appdata\\local\\packages\\pythonsoftwarefoundation.python.3.10_qbz5n2kfra8p0\\localcache\\local-packages\\python310\\site-packages (from gdown) (4.12.2)\n",
            "Requirement already satisfied: soupsieve>1.2 in c:\\users\\pc\\appdata\\local\\packages\\pythonsoftwarefoundation.python.3.10_qbz5n2kfra8p0\\localcache\\local-packages\\python310\\site-packages (from beautifulsoup4->gdown) (2.4.1)\n",
            "Requirement already satisfied: charset-normalizer<3,>=2 in c:\\users\\pc\\appdata\\local\\packages\\pythonsoftwarefoundation.python.3.10_qbz5n2kfra8p0\\localcache\\local-packages\\python310\\site-packages (from requests[socks]->gdown) (2.1.1)\n",
            "Requirement already satisfied: idna<4,>=2.5 in c:\\users\\pc\\appdata\\local\\packages\\pythonsoftwarefoundation.python.3.10_qbz5n2kfra8p0\\localcache\\local-packages\\python310\\site-packages (from requests[socks]->gdown) (3.4)\n",
            "Requirement already satisfied: urllib3<1.27,>=1.21.1 in c:\\users\\pc\\appdata\\local\\packages\\pythonsoftwarefoundation.python.3.10_qbz5n2kfra8p0\\localcache\\local-packages\\python310\\site-packages (from requests[socks]->gdown) (1.26.12)\n",
            "Requirement already satisfied: certifi>=2017.4.17 in c:\\users\\pc\\appdata\\local\\packages\\pythonsoftwarefoundation.python.3.10_qbz5n2kfra8p0\\localcache\\local-packages\\python310\\site-packages (from requests[socks]->gdown) (2022.9.24)\n",
            "Requirement already satisfied: PySocks!=1.5.7,>=1.5.6 in c:\\users\\pc\\appdata\\local\\packages\\pythonsoftwarefoundation.python.3.10_qbz5n2kfra8p0\\localcache\\local-packages\\python310\\site-packages (from requests[socks]->gdown) (1.7.1)\n",
            "Requirement already satisfied: colorama in c:\\users\\pc\\appdata\\local\\packages\\pythonsoftwarefoundation.python.3.10_qbz5n2kfra8p0\\localcache\\local-packages\\python310\\site-packages (from tqdm->gdown) (0.4.6)\n",
            "Requirement already satisfied: joblib in c:\\users\\pc\\appdata\\local\\packages\\pythonsoftwarefoundation.python.3.10_qbz5n2kfra8p0\\localcache\\local-packages\\python310\\site-packages (1.2.0)\n"
          ]
        }
      ],
      "source": [
        "!pip install ultralytics\n",
        "!pip install jdeskew\n",
        "!pip install deskew\n",
        "!pip install gdown\n",
        "!pip install joblib"
      ]
    },
    {
      "cell_type": "code",
      "execution_count": 14,
      "metadata": {
        "colab": {
          "base_uri": "https://localhost:8080/"
        },
        "id": "mzyaotdWym_B",
        "outputId": "45948abb-76c3-40a0-de2f-4bb165b3b497"
      },
      "outputs": [
        {
          "name": "stdout",
          "output_type": "stream",
          "text": [
            "Downloading...\n",
            "From: https://drive.google.com/uc?id=1pfFmbmzbiPPryt2LEltOvml7HH9SrMVQ\n",
            "To: /content/letter_model.pt\n",
            "100% 546M/546M [00:10<00:00, 54.5MB/s]\n"
          ]
        }
      ],
      "source": [
        "!gdown 1pfFmbmzbiPPryt2LEltOvml7HH9SrMVQ -O letter_model.pt"
      ]
    },
    {
      "cell_type": "code",
      "execution_count": 15,
      "metadata": {
        "colab": {
          "base_uri": "https://localhost:8080/"
        },
        "id": "AfFeIvfuzQoY",
        "outputId": "b50c56d4-5d3d-4ff8-e3c1-4cd998e0b202"
      },
      "outputs": [
        {
          "name": "stdout",
          "output_type": "stream",
          "text": [
            "  % Total    % Received % Xferd  Average Speed   Time    Time     Time  Current\n",
            "                                 Dload  Upload   Total   Spent    Left  Speed\n",
            "100 85.5M  100 85.5M    0     0  12.8M      0  0:00:06  0:00:06 --:--:-- 24.9M\n"
          ]
        }
      ],
      "source": [
        "!curl https://raw.githubusercontent.com/SeniorProject-2023/ocr-app/main/src/Backend/InferenceServer/word_model.pt -o word_model.pt"
      ]
    },
    {
      "cell_type": "code",
      "execution_count": 2,
      "metadata": {
        "id": "n6jtoiW1wV6M"
      },
      "outputs": [],
      "source": [
        "import re\n",
        "import string\n",
        "import cv2\n",
        "import numpy as np\n",
        "import torch\n",
        "from more_itertools import split_when\n",
        "from ultralytics import YOLO\n",
        "from ultralytics.yolo.utils.plotting import Annotator\n",
        "\n",
        "def normalize_arabic(text):\n",
        "    text = re.sub(\"[إأآا]\", \"ا\", text)\n",
        "    text = re.sub(\"ى\", \"ي\", text)\n",
        "    text = re.sub(\"ؤ\", \"ء\", text)\n",
        "    text = re.sub(\"ئ\", \"ء\", text)\n",
        "    text = re.sub(\"ة\", \"ه\", text)\n",
        "    text = re.sub(\"گ\", \"ك\", text)\n",
        "\n",
        "    return text\n",
        "\n",
        "\n",
        "def infer_words(word_model: YOLO, img: np.ndarray):\n",
        "    # returns List[(word_image, bb, class)]\n",
        "    results = word_model.predict(img, verbose=False)\n",
        "    returnable = []\n",
        "    for r in results:\n",
        "        boxes = r.boxes\n",
        "        for box in boxes:\n",
        "            x1, y1, x2, y2 = box.xyxy[0].cpu(\n",
        "            ).data.numpy().astype(int).tolist()\n",
        "            returnable.append(box.xyxy[0].tolist())\n",
        "            img = cv2.rectangle(img, (x1, y1), (x2, y2),\n",
        "                                (255, 255, 255), -1)\n",
        "    return returnable\n",
        "\n",
        "def maximize(box):\n",
        "    box_list = box.tolist()\n",
        "    return max(box_list[0], box_list[2], box_list[4])\n",
        "\n",
        "def infer_letters(model: YOLO, img: np.ndarray, **kwargs):\n",
        "    results = model.predict(img, verbose=False, **kwargs)[0]\n",
        "    boxes = results.boxes.data\n",
        "    xs = [maximize(box) for box in boxes]\n",
        "    \n",
        "    sorted_indices = sorted(range(len(xs)), key=xs.__getitem__, reverse=True)\n",
        "    letters = [model.names[int(results.boxes.cls[i])] for i in sorted_indices]\n",
        "    word = \"\".join(letters)\n",
        "    return_result = normalize_arabic(word)\n",
        "    return return_result\n",
        "\n",
        "\n",
        "def get_y_center(b):\n",
        "    x1, y1, x2, y2 = b[1].xyxy[0].tolist()\n",
        "    return (y1 + y2) / 2\n",
        "\n",
        "\n",
        "def groupbyrow(boxes):\n",
        "    def get_y_center(b):\n",
        "        x1, y1, x2, y2 = b\n",
        "        return (y1 + y2) / 2\n",
        "\n",
        "    def not_vertically_overlapping(b1, b2):\n",
        "        _, up1, _, down1 = b1\n",
        "        _, up2, _, down2 = b2\n",
        "        return down1 < up2 or (down1 - up2) < (up2 - up1)\n",
        "\n",
        "    sorted_boxes = sorted(boxes, key=get_y_center)\n",
        "    return list(split_when(sorted_boxes, not_vertically_overlapping))\n",
        "\n",
        "\n",
        "def merge_boxes(boxes, iou_thresh=0.3):\n",
        "    boxes = sorted(boxes, key=lambda b: b[0])\n",
        "\n",
        "    if len(boxes) == 0:\n",
        "        return []\n",
        "\n",
        "    merged_boxes = [boxes[0]]\n",
        "\n",
        "    for k in range(1, len(boxes)):\n",
        "        prev_box = merged_boxes[-1]\n",
        "\n",
        "        x1 = boxes[k][0]\n",
        "        y1 = boxes[k][1]\n",
        "        x2 = boxes[k][2]\n",
        "        y2 = boxes[k][3]\n",
        "        x1_other = prev_box[0]\n",
        "        y1_other = prev_box[1]\n",
        "        x2_other = prev_box[2]\n",
        "        y2_other = prev_box[3]\n",
        "\n",
        "        intersection_area = 0 if x2_other < x1 else (\n",
        "            x2_other - x1) * (max(y2, y2_other) - max(y1, y1_other))\n",
        "        area = (x2 - x1) * (y2 - y1)\n",
        "        area_other = (x2_other - x1_other) * (y2_other - y1_other)\n",
        "        union_area = area + area_other - intersection_area\n",
        "        if intersection_area / union_area > iou_thresh or intersection_area / area > 0.7 or intersection_area / area_other > 0.7:\n",
        "            x1_new = np.minimum(x1, x1_other)\n",
        "            y1_new = np.minimum(y1, y1_other)\n",
        "            x2_new = np.maximum(x2, x2_other)\n",
        "            y2_new = np.maximum(y2, y2_other)\n",
        "\n",
        "            merged_boxes[-1] = ([x1_new, y1_new, x2_new, y2_new])\n",
        "        else:\n",
        "            merged_boxes.append([x1, y1, x2, y2])\n",
        "\n",
        "    return merged_boxes\n",
        "\n",
        "\n",
        "def map2d(func, grid):\n",
        "    return [[func(value) for value in row] for row in grid]\n"
      ]
    },
    {
      "cell_type": "code",
      "execution_count": 3,
      "metadata": {
        "id": "sFx6Fn53xVfA"
      },
      "outputs": [],
      "source": [
        "import cv2\n",
        "import numpy as np\n",
        "\n",
        "\n",
        "def highPassFilter(img, kSize=51):\n",
        "    if not kSize % 2:\n",
        "        kSize += 1\n",
        "    kernel = np.ones((kSize, kSize), np.float32) / (kSize * kSize)\n",
        "    filtered = cv2.filter2D(img, -1, kernel)\n",
        "    filtered = img.astype('float32') - filtered.astype('float32')\n",
        "    filtered = filtered + 127 * np.ones(img.shape, np.uint8)\n",
        "    filtered = filtered.astype('uint8')\n",
        "\n",
        "    return filtered\n",
        "\n",
        "\n",
        "def blackPointSelect(img, blackPoint=66):\n",
        "    def map(x, in_min, in_max, out_min, out_max):\n",
        "        return (x - in_min) * (out_max - out_min) / (in_max - in_min) + out_min\n",
        "    img = img.astype('int32')\n",
        "    img = map(img, blackPoint, 255, 0, 255)\n",
        "    _, img = cv2.threshold(img, 0, 255, cv2.THRESH_TOZERO)\n",
        "    return img.astype('uint8')\n",
        "\n",
        "\n",
        "def whitePointSelect(img, whitePoint=127):\n",
        "    def map(x, in_min, in_max, out_min, out_max):\n",
        "        return (x - in_min) * (out_max - out_min) / (in_max - in_min) + out_min\n",
        "    _, img = cv2.threshold(img, whitePoint, 255, cv2.THRESH_TRUNC)\n",
        "    img = img.astype('int32')\n",
        "    img = map(img, 0, whitePoint, 0, 255)\n",
        "    img = img.astype('uint8')\n",
        "\n",
        "    return img\n"
      ]
    },
    {
      "cell_type": "code",
      "execution_count": 8,
      "metadata": {
        "id": "Cq6Lzv9RxQqB"
      },
      "outputs": [],
      "source": [
        "from PIL import Image\n",
        "from deskew import determine_skew\n",
        "from jdeskew.utility import rotate\n",
        "from functools import reduce\n",
        "from torch import Tensor\n",
        "import datetime\n",
        "from joblib import delayed, Parallel\n",
        "\n",
        "\n",
        "def infer_image(word_model: YOLO, letter_model: YOLO, img_array):\n",
        "    img = cv2.imdecode(img_array, cv2.IMREAD_COLOR)\n",
        "    img = cv2.cvtColor(img, cv2.COLOR_RGB2BGR)\n",
        "    img = cv2.cvtColor(img, cv2.COLOR_BGR2GRAY)\n",
        "    img = highPassFilter(img)\n",
        "    img = whitePointSelect(img)\n",
        "    img = blackPointSelect(img)\n",
        "    _, img = cv2.threshold(img, 0, 255, cv2.THRESH_BINARY + cv2.THRESH_OTSU)\n",
        "    img = rotate(img, determine_skew(img),\n",
        "                 border_mode=cv2.BORDER_CONSTANT, border_value=255)\n",
        "    img = cv2.cvtColor(img, cv2.COLOR_GRAY2RGB)\n",
        "    pil_img_before_inference = Image.fromarray(img)\n",
        "    word_boxes = infer_words(word_model, img)\n",
        "\n",
        "    box_bounds = [\n",
        "        [\n",
        "          max(0, b[0] + ((b[0] - b[2]) * 0.05)),\n",
        "          max(0, b[1] + ((b[1] - b[3]) * 0.2)),\n",
        "          min(img.shape[1] - 1, b[2] + ((b[2] - b[0]) * 0.05)),\n",
        "          min(img.shape[0] - 1, b[3] + ((b[3] - b[1]) * 0.05))\n",
        "        ] for b in word_boxes]  # pad the boxes and make sure padding doesn't spill out of image\n",
        "    box_bounds = reduce(lambda x, y: np.vstack((x, y)), box_bounds)\n",
        "    rows_of_boxes = groupbyrow(box_bounds)\n",
        "    rows_of_boxes = [merge_boxes(row) for row in rows_of_boxes]\n",
        "\n",
        "    rows_of_word_imgs = map2d(lambda box: np.array(\n",
        "        pil_img_before_inference.crop(box)), rows_of_boxes)\n",
        "\n",
        "    im = Image.fromarray(rows_of_word_imgs[0][0])\n",
        "    im.save(f\"C:\\\\Users\\\\PC\\\\Desktop\\\\letter.jpg\")\n",
        "    rows_of_word_texts = [infer_letters(letter_model, x, conf=0.3, iou=0.5, agnostic_nms=True) for y in rows_of_word_imgs for x in y]\n",
        "    #rows_of_word_texts = Parallel(n_jobs=4)(delayed(infer_letters)(letter_model, x, conf=0.3, iou=0.5, agnostic_nms=True) for y in rows_of_word_imgs for x in y)\n",
        "\n",
        "    final_rows = [\" \".join(reversed(row)) for row in rows_of_word_texts]\n",
        "\n",
        "    return \"\\n\".join(final_rows)"
      ]
    },
    {
      "cell_type": "code",
      "execution_count": 9,
      "metadata": {
        "colab": {
          "base_uri": "https://localhost:8080/",
          "height": 1000
        },
        "id": "uq0cazj9xFoC",
        "outputId": "2c9fd22a-c4b1-4ff4-c4cc-575f33bbe3b9"
      },
      "outputs": [
        {
          "name": "stdout",
          "output_type": "stream",
          "text": [
            "<class 'numpy.ndarray'>\n"
          ]
        },
        {
          "ename": "AttributeError",
          "evalue": "'numpy.ndarray' object has no attribute 'save'",
          "output_type": "error",
          "traceback": [
            "\u001b[1;31m---------------------------------------------------------------------------\u001b[0m",
            "\u001b[1;31mAttributeError\u001b[0m                            Traceback (most recent call last)",
            "Cell \u001b[1;32mIn[9], line 8\u001b[0m\n\u001b[0;32m      4\u001b[0m word_model \u001b[39m=\u001b[39m YOLO(\u001b[39m'\u001b[39m\u001b[39m./word_model.pt\u001b[39m\u001b[39m'\u001b[39m)\n\u001b[0;32m      5\u001b[0m letter_model \u001b[39m=\u001b[39m YOLO(\u001b[39m'\u001b[39m\u001b[39m./letter_model.pt\u001b[39m\u001b[39m'\u001b[39m)\n\u001b[1;32m----> 8\u001b[0m infer_image(word_model, letter_model, image_numpy)\n",
            "Cell \u001b[1;32mIn[8], line 39\u001b[0m, in \u001b[0;36minfer_image\u001b[1;34m(word_model, letter_model, img_array)\u001b[0m\n\u001b[0;32m     35\u001b[0m rows_of_word_imgs \u001b[39m=\u001b[39m map2d(\u001b[39mlambda\u001b[39;00m box: np\u001b[39m.\u001b[39marray(\n\u001b[0;32m     36\u001b[0m     pil_img_before_inference\u001b[39m.\u001b[39mcrop(box)), rows_of_boxes)\n\u001b[0;32m     38\u001b[0m \u001b[39mprint\u001b[39m(\u001b[39mtype\u001b[39m(rows_of_word_imgs[\u001b[39m0\u001b[39m][\u001b[39m0\u001b[39m]))\n\u001b[1;32m---> 39\u001b[0m rows_of_word_imgs[\u001b[39m0\u001b[39;49m][\u001b[39m0\u001b[39;49m]\u001b[39m.\u001b[39;49msave(\u001b[39mf\u001b[39m\u001b[39m\"\u001b[39m\u001b[39mC:\u001b[39m\u001b[39m\\\\\u001b[39;00m\u001b[39mUsers\u001b[39m\u001b[39m\\\\\u001b[39;00m\u001b[39mPC\u001b[39m\u001b[39m\\\\\u001b[39;00m\u001b[39mDesktop\u001b[39m\u001b[39m\\\\\u001b[39;00m\u001b[39mletter.jpg\u001b[39m\u001b[39m\"\u001b[39m)\n\u001b[0;32m     40\u001b[0m rows_of_word_texts \u001b[39m=\u001b[39m [infer_letters(letter_model, x, conf\u001b[39m=\u001b[39m\u001b[39m0.3\u001b[39m, iou\u001b[39m=\u001b[39m\u001b[39m0.5\u001b[39m, agnostic_nms\u001b[39m=\u001b[39m\u001b[39mTrue\u001b[39;00m) \u001b[39mfor\u001b[39;00m y \u001b[39min\u001b[39;00m rows_of_word_imgs \u001b[39mfor\u001b[39;00m x \u001b[39min\u001b[39;00m y]\n\u001b[0;32m     41\u001b[0m \u001b[39m#rows_of_word_texts = Parallel(n_jobs=4)(delayed(infer_letters)(letter_model, x, conf=0.3, iou=0.5, agnostic_nms=True) for y in rows_of_word_imgs for x in y)\u001b[39;00m\n",
            "\u001b[1;31mAttributeError\u001b[0m: 'numpy.ndarray' object has no attribute 'save'"
          ]
        }
      ],
      "source": [
        "data = open(f\"C:\\\\Users\\\\PC\\\\Desktop\\\\testocr.jpg\", \"rb\").read()\n",
        "image_numpy = np.array(bytearray(data), dtype=np.uint8)\n",
        "\n",
        "word_model = YOLO('./word_model.pt')\n",
        "letter_model = YOLO('./letter_model.pt')\n",
        "\n",
        "\n",
        "infer_image(word_model, letter_model, image_numpy)"
      ]
    },
    {
      "cell_type": "code",
      "execution_count": 26,
      "metadata": {},
      "outputs": [
        {
          "name": "stdout",
          "output_type": "stream",
          "text": [
            "0.0003202999996574363\n",
            "0.003236599999581813\n"
          ]
        }
      ],
      "source": [
        "import timeit\n",
        "import re\n",
        "\n",
        "code1 = '''\n",
        "def normalize_arabic(text):\n",
        "    text = re.sub(\"[إأآا]\", \"ا\", text)\n",
        "    text = re.sub(\"ى\", \"ي\", text)\n",
        "    text = re.sub(\"ؤ\", \"ء\", text)\n",
        "    text = re.sub(\"ئ\", \"ء\", text)\n",
        "    text = re.sub(\"ة\", \"ه\", text)\n",
        "    text = re.sub(\"گ\", \"ك\", text)\n",
        "\n",
        "    return text\n",
        "\n",
        "    normalize_arabic(\"اهلا\")\n",
        "'''\n",
        "\n",
        "code2 = '''\n",
        "\n",
        "replacements_dict = {\n",
        "    'أ': 'ا',\n",
        "    'إ': 'ا',\n",
        "    'آ': 'ا',\n",
        "    'ي': 'ى',\n",
        "}\n",
        "\n",
        "string = \"اهلا\".translate(str.maketrans(replacements_dict))\n",
        "\n",
        "\n",
        "'''\n",
        "print(timeit.timeit(stmt=code1, number=5000))\n",
        "print(timeit.timeit(stmt=code2, number=5000))"
      ]
    },
    {
      "cell_type": "code",
      "execution_count": 53,
      "metadata": {},
      "outputs": [
        {
          "name": "stdout",
          "output_type": "stream",
          "text": [
            "5.752683799999431\n",
            "5.263248199998998\n",
            "2.2057134000006045\n"
          ]
        }
      ],
      "source": [
        "import timeit\n",
        "\n",
        "# Slow\n",
        "print(timeit.timeit(stmt='''\n",
        "for i in range(10000):\n",
        "    t.append(i)''', setup='t=[]', number=10000))\n",
        "\n",
        "# Faster\n",
        "print(timeit.timeit(stmt='''\n",
        "for i in range(10000):\n",
        "    l(i)''', setup='t=[]; l=t.append', number=10000))\n",
        "\n",
        "# Faster still\n",
        "print(timeit.timeit(stmt='t = [i for i in range(10000)]', number=10000))\n"
      ]
    }
  ],
  "metadata": {
    "colab": {
      "provenance": []
    },
    "kernelspec": {
      "display_name": "Python 3",
      "name": "python3"
    },
    "language_info": {
      "codemirror_mode": {
        "name": "ipython",
        "version": 3
      },
      "file_extension": ".py",
      "mimetype": "text/x-python",
      "name": "python",
      "nbconvert_exporter": "python",
      "pygments_lexer": "ipython3",
      "version": "3.10.11"
    }
  },
  "nbformat": 4,
  "nbformat_minor": 0
}
